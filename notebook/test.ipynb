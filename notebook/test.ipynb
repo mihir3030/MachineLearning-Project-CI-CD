{
 "cells": [
  {
   "cell_type": "code",
   "execution_count": 1,
   "metadata": {},
   "outputs": [],
   "source": []
  },
  {
   "cell_type": "code",
   "execution_count": 1,
   "metadata": {},
   "outputs": [],
   "source": [
    "path = os.getcwd()\n",
    "root = \"c:\\\\work-projects\\\\MachineLearning-Project-CI-CD\\\\\"\n",
    "os.chdir(root)"
   ]
  },
  {
   "cell_type": "code",
   "execution_count": 2,
   "metadata": {},
   "outputs": [],
   "source": [
    "from housing.config.configuration import Configuration\n",
    "config = Configuration()"
   ]
  },
  {
   "cell_type": "code",
   "execution_count": 3,
   "metadata": {},
   "outputs": [
    {
     "data": {
      "text/plain": [
       "'c:\\\\work-projects\\\\MachineLearning-Project-CI-CD'"
      ]
     },
     "execution_count": 3,
     "metadata": {},
     "output_type": "execute_result"
    }
   ],
   "source": [
    "a = os.getcwd()\n",
    "a"
   ]
  },
  {
   "cell_type": "code",
   "execution_count": 2,
   "metadata": {},
   "outputs": [],
   "source": [
    "from housing.config.configuration import Configuration\n",
    "config = Configuration()"
   ]
  },
  {
   "cell_type": "code",
   "execution_count": 3,
   "metadata": {},
   "outputs": [
    {
     "data": {
      "text/plain": [
       "DataIngestionConfig(dataset_download_url='https://raw.githubusercontent.com/ageron/handson-ml/master/datasets/housing/housing.tgz', tgz_download_dir='c:\\\\work-projects\\\\MachineLearning-Project-CI-CD\\\\pipeline_name\\\\artifact_dir\\\\data_ingestion\\\\2022-10-11-19-16-48\\\\tgz_data', raw_data_dir='c:\\\\work-projects\\\\MachineLearning-Project-CI-CD\\\\pipeline_name\\\\artifact_dir\\\\data_ingestion\\\\2022-10-11-19-16-48\\\\raw_data', ingested_train_dir='c:\\\\work-projects\\\\MachineLearning-Project-CI-CD\\\\pipeline_name\\\\artifact_dir\\\\data_ingestion\\\\2022-10-11-19-16-48\\\\ingested_data\\\\train', ingested_test_dir='c:\\\\work-projects\\\\MachineLearning-Project-CI-CD\\\\pipeline_name\\\\artifact_dir\\\\data_ingestion\\\\2022-10-11-19-16-48\\\\ingested_data\\\\test')"
      ]
     },
     "execution_count": 3,
     "metadata": {},
     "output_type": "execute_result"
    }
   ],
   "source": [
    "config.get_data_ingestion_config()"
   ]
  },
  {
   "cell_type": "code",
   "execution_count": null,
   "metadata": {},
   "outputs": [],
   "source": []
  }
 ],
 "metadata": {
  "kernelspec": {
   "display_name": "Python 3.7.13 (conda)",
   "language": "python",
   "name": "python3"
  },
  "language_info": {
   "codemirror_mode": {
    "name": "ipython",
    "version": 3
   },
   "file_extension": ".py",
   "mimetype": "text/x-python",
   "name": "python",
   "nbconvert_exporter": "python",
   "pygments_lexer": "ipython3",
   "version": "3.7.13"
  },
  "orig_nbformat": 4,
  "vscode": {
   "interpreter": {
    "hash": "30e6d33d53454429301dc9925849c1a8c63460fa32fca76265ed666798eeac2c"
   }
  }
 },
 "nbformat": 4,
 "nbformat_minor": 2
}
